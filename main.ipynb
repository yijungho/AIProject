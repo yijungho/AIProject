{
 "cells": [
  {
   "cell_type": "code",
   "execution_count": 9,
   "metadata": {},
   "outputs": [
    {
     "name": "stdout",
     "output_type": "stream",
     "text": [
      "Requirement already satisfied: torch in c:\\users\\user\\anaconda3\\lib\\site-packages (from -r requirements.txt (line 1)) (2.1.2)\n",
      "Requirement already satisfied: numpy in c:\\users\\user\\anaconda3\\lib\\site-packages (from -r requirements.txt (line 2)) (1.24.3)\n",
      "Requirement already satisfied: matplotlib in c:\\users\\user\\anaconda3\\lib\\site-packages (from -r requirements.txt (line 3)) (3.7.2)\n",
      "Collecting torchvision (from -r requirements.txt (line 4))\n",
      "  Obtaining dependency information for torchvision from https://files.pythonhosted.org/packages/f9/e6/3c821e7417acd82df89e39f09156ce80d58817b5b4b1ac5453b522bc5dd4/torchvision-0.16.2-cp311-cp311-win_amd64.whl.metadata\n",
      "  Downloading torchvision-0.16.2-cp311-cp311-win_amd64.whl.metadata (6.6 kB)\n",
      "Requirement already satisfied: pandas in c:\\users\\user\\anaconda3\\lib\\site-packages (from -r requirements.txt (line 5)) (2.0.3)\n",
      "Requirement already satisfied: filelock in c:\\users\\user\\anaconda3\\lib\\site-packages (from torch->-r requirements.txt (line 1)) (3.9.0)\n",
      "Requirement already satisfied: typing-extensions in c:\\users\\user\\anaconda3\\lib\\site-packages (from torch->-r requirements.txt (line 1)) (4.7.1)\n",
      "Requirement already satisfied: sympy in c:\\users\\user\\anaconda3\\lib\\site-packages (from torch->-r requirements.txt (line 1)) (1.11.1)\n",
      "Requirement already satisfied: networkx in c:\\users\\user\\anaconda3\\lib\\site-packages (from torch->-r requirements.txt (line 1)) (3.1)\n",
      "Requirement already satisfied: jinja2 in c:\\users\\user\\anaconda3\\lib\\site-packages (from torch->-r requirements.txt (line 1)) (3.1.2)\n",
      "Requirement already satisfied: fsspec in c:\\users\\user\\anaconda3\\lib\\site-packages (from torch->-r requirements.txt (line 1)) (2023.4.0)\n",
      "Requirement already satisfied: contourpy>=1.0.1 in c:\\users\\user\\anaconda3\\lib\\site-packages (from matplotlib->-r requirements.txt (line 3)) (1.0.5)\n",
      "Requirement already satisfied: cycler>=0.10 in c:\\users\\user\\anaconda3\\lib\\site-packages (from matplotlib->-r requirements.txt (line 3)) (0.11.0)\n",
      "Requirement already satisfied: fonttools>=4.22.0 in c:\\users\\user\\anaconda3\\lib\\site-packages (from matplotlib->-r requirements.txt (line 3)) (4.25.0)\n",
      "Requirement already satisfied: kiwisolver>=1.0.1 in c:\\users\\user\\anaconda3\\lib\\site-packages (from matplotlib->-r requirements.txt (line 3)) (1.4.4)\n",
      "Requirement already satisfied: packaging>=20.0 in c:\\users\\user\\anaconda3\\lib\\site-packages (from matplotlib->-r requirements.txt (line 3)) (23.1)\n",
      "Requirement already satisfied: pillow>=6.2.0 in c:\\users\\user\\anaconda3\\lib\\site-packages (from matplotlib->-r requirements.txt (line 3)) (9.4.0)\n",
      "Requirement already satisfied: pyparsing<3.1,>=2.3.1 in c:\\users\\user\\anaconda3\\lib\\site-packages (from matplotlib->-r requirements.txt (line 3)) (3.0.9)\n",
      "Requirement already satisfied: python-dateutil>=2.7 in c:\\users\\user\\anaconda3\\lib\\site-packages (from matplotlib->-r requirements.txt (line 3)) (2.8.2)\n",
      "Requirement already satisfied: requests in c:\\users\\user\\anaconda3\\lib\\site-packages (from torchvision->-r requirements.txt (line 4)) (2.31.0)\n",
      "Requirement already satisfied: pytz>=2020.1 in c:\\users\\user\\anaconda3\\lib\\site-packages (from pandas->-r requirements.txt (line 5)) (2023.3.post1)\n",
      "Requirement already satisfied: tzdata>=2022.1 in c:\\users\\user\\anaconda3\\lib\\site-packages (from pandas->-r requirements.txt (line 5)) (2023.3)\n",
      "Requirement already satisfied: six>=1.5 in c:\\users\\user\\anaconda3\\lib\\site-packages (from python-dateutil>=2.7->matplotlib->-r requirements.txt (line 3)) (1.16.0)\n",
      "Requirement already satisfied: MarkupSafe>=2.0 in c:\\users\\user\\anaconda3\\lib\\site-packages (from jinja2->torch->-r requirements.txt (line 1)) (2.1.1)\n",
      "Requirement already satisfied: charset-normalizer<4,>=2 in c:\\users\\user\\anaconda3\\lib\\site-packages (from requests->torchvision->-r requirements.txt (line 4)) (2.0.4)\n",
      "Requirement already satisfied: idna<4,>=2.5 in c:\\users\\user\\anaconda3\\lib\\site-packages (from requests->torchvision->-r requirements.txt (line 4)) (3.4)\n",
      "Requirement already satisfied: urllib3<3,>=1.21.1 in c:\\users\\user\\anaconda3\\lib\\site-packages (from requests->torchvision->-r requirements.txt (line 4)) (1.26.16)\n",
      "Requirement already satisfied: certifi>=2017.4.17 in c:\\users\\user\\anaconda3\\lib\\site-packages (from requests->torchvision->-r requirements.txt (line 4)) (2023.7.22)\n",
      "Requirement already satisfied: mpmath>=0.19 in c:\\users\\user\\anaconda3\\lib\\site-packages (from sympy->torch->-r requirements.txt (line 1)) (1.3.0)\n",
      "Downloading torchvision-0.16.2-cp311-cp311-win_amd64.whl (1.1 MB)\n",
      "   ---------------------------------------- 0.0/1.1 MB ? eta -:--:--\n",
      "   - -------------------------------------- 0.0/1.1 MB 1.3 MB/s eta 0:00:01\n",
      "   ----------------------- ---------------- 0.7/1.1 MB 10.4 MB/s eta 0:00:01\n",
      "   ---------------------------------------- 1.1/1.1 MB 9.0 MB/s eta 0:00:00\n",
      "Installing collected packages: torchvision\n",
      "Successfully installed torchvision-0.16.2\n"
     ]
    }
   ],
   "source": [
    "!pip install -r requirements.txt"
   ]
  },
  {
   "cell_type": "code",
   "execution_count": 2,
   "metadata": {},
   "outputs": [
    {
     "name": "stdout",
     "output_type": "stream",
     "text": [
      "Collecting torch\n",
      "  Obtaining dependency information for torch from https://files.pythonhosted.org/packages/e4/ae/2ad8820045b6631965750435f28583e80905b8273d57cf026163b51323ee/torch-2.1.2-cp311-cp311-win_amd64.whl.metadata\n",
      "  Downloading torch-2.1.2-cp311-cp311-win_amd64.whl.metadata (26 kB)\n",
      "Requirement already satisfied: filelock in c:\\users\\user\\anaconda3\\lib\\site-packages (from torch) (3.9.0)\n",
      "Requirement already satisfied: typing-extensions in c:\\users\\user\\anaconda3\\lib\\site-packages (from torch) (4.7.1)\n",
      "Requirement already satisfied: sympy in c:\\users\\user\\anaconda3\\lib\\site-packages (from torch) (1.11.1)\n",
      "Requirement already satisfied: networkx in c:\\users\\user\\anaconda3\\lib\\site-packages (from torch) (3.1)\n",
      "Requirement already satisfied: jinja2 in c:\\users\\user\\anaconda3\\lib\\site-packages (from torch) (3.1.2)\n",
      "Requirement already satisfied: fsspec in c:\\users\\user\\anaconda3\\lib\\site-packages (from torch) (2023.4.0)\n",
      "Requirement already satisfied: MarkupSafe>=2.0 in c:\\users\\user\\anaconda3\\lib\\site-packages (from jinja2->torch) (2.1.1)\n",
      "Requirement already satisfied: mpmath>=0.19 in c:\\users\\user\\anaconda3\\lib\\site-packages (from sympy->torch) (1.3.0)\n",
      "Downloading torch-2.1.2-cp311-cp311-win_amd64.whl (192.3 MB)\n",
      "   ---------------------------------------- 0.0/192.3 MB ? eta -:--:--\n",
      "   ---------------------------------------- 0.1/192.3 MB 3.3 MB/s eta 0:00:59\n",
      "   ---------------------------------------- 1.0/192.3 MB 16.7 MB/s eta 0:00:12\n",
      "    --------------------------------------- 2.5/192.3 MB 19.9 MB/s eta 0:00:10\n",
      "    --------------------------------------- 4.2/192.3 MB 26.9 MB/s eta 0:00:07\n",
      "   - -------------------------------------- 6.4/192.3 MB 29.3 MB/s eta 0:00:07\n",
      "   - -------------------------------------- 8.0/192.3 MB 31.9 MB/s eta 0:00:06\n",
      "   -- ------------------------------------- 10.2/192.3 MB 32.7 MB/s eta 0:00:06\n",
      "   -- ------------------------------------- 12.2/192.3 MB 40.9 MB/s eta 0:00:05\n",
      "   -- ------------------------------------- 13.9/192.3 MB 38.5 MB/s eta 0:00:05\n",
      "   --- ------------------------------------ 16.1/192.3 MB 40.9 MB/s eta 0:00:05\n",
      "   --- ------------------------------------ 18.2/192.3 MB 40.9 MB/s eta 0:00:05\n",
      "   ---- ----------------------------------- 20.3/192.3 MB 40.9 MB/s eta 0:00:05\n",
      "   ---- ----------------------------------- 21.6/192.3 MB 38.5 MB/s eta 0:00:05\n",
      "   ---- ----------------------------------- 23.9/192.3 MB 43.7 MB/s eta 0:00:04\n",
      "   ----- ---------------------------------- 25.8/192.3 MB 43.7 MB/s eta 0:00:04\n",
      "   ----- ---------------------------------- 28.2/192.3 MB 43.5 MB/s eta 0:00:04\n",
      "   ------ --------------------------------- 30.5/192.3 MB 43.5 MB/s eta 0:00:04\n",
      "   ------ --------------------------------- 31.7/192.3 MB 43.5 MB/s eta 0:00:04\n",
      "   ------- -------------------------------- 33.8/192.3 MB 40.9 MB/s eta 0:00:04\n",
      "   ------- -------------------------------- 36.3/192.3 MB 43.7 MB/s eta 0:00:04\n",
      "   ------- -------------------------------- 36.9/192.3 MB 43.5 MB/s eta 0:00:04\n",
      "   ------- -------------------------------- 38.4/192.3 MB 36.4 MB/s eta 0:00:05\n",
      "   -------- ------------------------------- 40.4/192.3 MB 34.4 MB/s eta 0:00:05\n",
      "   -------- ------------------------------- 40.5/192.3 MB 29.7 MB/s eta 0:00:06\n",
      "   -------- ------------------------------- 40.7/192.3 MB 26.2 MB/s eta 0:00:06\n",
      "   -------- ------------------------------- 42.5/192.3 MB 27.3 MB/s eta 0:00:06\n",
      "   --------- ------------------------------ 44.3/192.3 MB 27.3 MB/s eta 0:00:06\n",
      "   --------- ------------------------------ 46.6/192.3 MB 27.3 MB/s eta 0:00:06\n",
      "   ---------- ----------------------------- 48.5/192.3 MB 29.7 MB/s eta 0:00:05\n",
      "   ---------- ----------------------------- 50.7/192.3 MB 34.4 MB/s eta 0:00:05\n",
      "   ---------- ----------------------------- 52.4/192.3 MB 40.9 MB/s eta 0:00:04\n",
      "   ----------- ---------------------------- 54.2/192.3 MB 43.7 MB/s eta 0:00:04\n",
      "   ----------- ---------------------------- 56.4/192.3 MB 40.9 MB/s eta 0:00:04\n",
      "   ------------ --------------------------- 58.5/192.3 MB 43.7 MB/s eta 0:00:04\n",
      "   ------------ --------------------------- 60.2/192.3 MB 40.9 MB/s eta 0:00:04\n",
      "   ------------ --------------------------- 62.4/192.3 MB 43.5 MB/s eta 0:00:03\n",
      "   ------------- -------------------------- 64.8/192.3 MB 43.7 MB/s eta 0:00:03\n",
      "   ------------- -------------------------- 66.4/192.3 MB 43.5 MB/s eta 0:00:03\n",
      "   -------------- ------------------------- 68.5/192.3 MB 43.7 MB/s eta 0:00:03\n",
      "   -------------- ------------------------- 70.5/192.3 MB 46.9 MB/s eta 0:00:03\n",
      "   --------------- ------------------------ 72.7/192.3 MB 46.7 MB/s eta 0:00:03\n",
      "   --------------- ------------------------ 74.8/192.3 MB 40.9 MB/s eta 0:00:03\n",
      "   ---------------- ----------------------- 77.0/192.3 MB 43.5 MB/s eta 0:00:03\n",
      "   ---------------- ----------------------- 79.3/192.3 MB 43.7 MB/s eta 0:00:03\n",
      "   ---------------- ----------------------- 81.5/192.3 MB 46.9 MB/s eta 0:00:03\n",
      "   ----------------- ---------------------- 83.5/192.3 MB 40.9 MB/s eta 0:00:03\n",
      "   ----------------- ---------------------- 85.1/192.3 MB 43.7 MB/s eta 0:00:03\n",
      "   ----------------- ---------------------- 86.2/192.3 MB 43.7 MB/s eta 0:00:03\n",
      "   ------------------ --------------------- 88.7/192.3 MB 40.9 MB/s eta 0:00:03\n",
      "   ------------------ --------------------- 90.8/192.3 MB 40.9 MB/s eta 0:00:03\n",
      "   ------------------- -------------------- 92.8/192.3 MB 40.9 MB/s eta 0:00:03\n",
      "   ------------------- -------------------- 95.3/192.3 MB 40.9 MB/s eta 0:00:03\n",
      "   -------------------- ------------------- 97.4/192.3 MB 46.9 MB/s eta 0:00:03\n",
      "   -------------------- ------------------- 98.7/192.3 MB 43.7 MB/s eta 0:00:03\n",
      "   -------------------- ------------------ 101.0/192.3 MB 43.7 MB/s eta 0:00:03\n",
      "   -------------------- ------------------ 103.1/192.3 MB 46.7 MB/s eta 0:00:02\n",
      "   --------------------- ----------------- 105.2/192.3 MB 43.5 MB/s eta 0:00:03\n",
      "   --------------------- ----------------- 106.9/192.3 MB 43.5 MB/s eta 0:00:02\n",
      "   ---------------------- ---------------- 109.2/192.3 MB 43.5 MB/s eta 0:00:02\n",
      "   ---------------------- ---------------- 111.5/192.3 MB 40.9 MB/s eta 0:00:02\n",
      "   ---------------------- ---------------- 113.4/192.3 MB 43.7 MB/s eta 0:00:02\n",
      "   ----------------------- --------------- 115.7/192.3 MB 43.5 MB/s eta 0:00:02\n",
      "   ----------------------- --------------- 117.6/192.3 MB 40.9 MB/s eta 0:00:02\n",
      "   ------------------------ -------------- 119.8/192.3 MB 40.9 MB/s eta 0:00:02\n",
      "   ------------------------ -------------- 121.4/192.3 MB 43.7 MB/s eta 0:00:02\n",
      "   ------------------------ -------------- 123.2/192.3 MB 43.7 MB/s eta 0:00:02\n",
      "   ------------------------- ------------- 123.7/192.3 MB 43.7 MB/s eta 0:00:02\n",
      "   ------------------------- ------------- 123.7/192.3 MB 43.7 MB/s eta 0:00:02\n",
      "   ------------------------- ------------- 124.5/192.3 MB 31.2 MB/s eta 0:00:03\n",
      "   ------------------------- ------------- 126.6/192.3 MB 29.7 MB/s eta 0:00:03\n",
      "   ------------------------- ------------- 128.1/192.3 MB 28.4 MB/s eta 0:00:03\n",
      "   -------------------------- ------------ 130.6/192.3 MB 29.7 MB/s eta 0:00:03\n",
      "   -------------------------- ------------ 132.8/192.3 MB 29.7 MB/s eta 0:00:03\n",
      "   --------------------------- ----------- 134.4/192.3 MB 40.9 MB/s eta 0:00:02\n",
      "   --------------------------- ----------- 135.7/192.3 MB 40.9 MB/s eta 0:00:02\n",
      "   --------------------------- ----------- 137.8/192.3 MB 40.9 MB/s eta 0:00:02\n",
      "   ---------------------------- ---------- 139.8/192.3 MB 40.9 MB/s eta 0:00:02\n",
      "   ---------------------------- ---------- 142.4/192.3 MB 43.5 MB/s eta 0:00:02\n",
      "   ----------------------------- --------- 144.4/192.3 MB 40.9 MB/s eta 0:00:02\n",
      "   ----------------------------- --------- 146.5/192.3 MB 43.7 MB/s eta 0:00:02\n",
      "   ------------------------------ -------- 148.5/192.3 MB 43.7 MB/s eta 0:00:02\n",
      "   ------------------------------ -------- 150.2/192.3 MB 43.7 MB/s eta 0:00:01\n",
      "   ------------------------------ -------- 152.3/192.3 MB 38.6 MB/s eta 0:00:02\n",
      "   ------------------------------- ------- 154.2/192.3 MB 40.9 MB/s eta 0:00:01\n",
      "   ------------------------------- ------- 155.6/192.3 MB 38.5 MB/s eta 0:00:01\n",
      "   ------------------------------- ------- 157.5/192.3 MB 38.6 MB/s eta 0:00:01\n",
      "   -------------------------------- ------ 159.8/192.3 MB 40.9 MB/s eta 0:00:01\n",
      "   -------------------------------- ------ 161.4/192.3 MB 40.9 MB/s eta 0:00:01\n",
      "   --------------------------------- ----- 163.0/192.3 MB 38.5 MB/s eta 0:00:01\n",
      "   --------------------------------- ----- 164.1/192.3 MB 40.9 MB/s eta 0:00:01\n",
      "   --------------------------------- ----- 165.5/192.3 MB 38.6 MB/s eta 0:00:01\n",
      "   --------------------------------- ----- 167.2/192.3 MB 36.4 MB/s eta 0:00:01\n",
      "   ---------------------------------- ---- 169.6/192.3 MB 38.5 MB/s eta 0:00:01\n",
      "   ---------------------------------- ---- 171.5/192.3 MB 36.4 MB/s eta 0:00:01\n",
      "   ----------------------------------- --- 173.5/192.3 MB 38.5 MB/s eta 0:00:01\n",
      "   ----------------------------------- --- 175.6/192.3 MB 40.9 MB/s eta 0:00:01\n",
      "   ----------------------------------- --- 177.5/192.3 MB 40.9 MB/s eta 0:00:01\n",
      "   ------------------------------------ -- 179.8/192.3 MB 40.9 MB/s eta 0:00:01\n",
      "   ------------------------------------ -- 181.7/192.3 MB 43.5 MB/s eta 0:00:01\n",
      "   ------------------------------------- - 183.4/192.3 MB 40.9 MB/s eta 0:00:01\n",
      "   ------------------------------------- - 185.5/192.3 MB 43.5 MB/s eta 0:00:01\n",
      "   --------------------------------------  187.4/192.3 MB 40.9 MB/s eta 0:00:01\n",
      "   --------------------------------------  189.7/192.3 MB 43.7 MB/s eta 0:00:01\n",
      "   --------------------------------------  191.5/192.3 MB 40.9 MB/s eta 0:00:01\n",
      "   --------------------------------------  192.3/192.3 MB 43.5 MB/s eta 0:00:01\n",
      "   --------------------------------------  192.3/192.3 MB 43.5 MB/s eta 0:00:01\n",
      "   --------------------------------------  192.3/192.3 MB 43.5 MB/s eta 0:00:01\n",
      "   --------------------------------------  192.3/192.3 MB 43.5 MB/s eta 0:00:01\n",
      "   --------------------------------------  192.3/192.3 MB 43.5 MB/s eta 0:00:01\n",
      "   --------------------------------------  192.3/192.3 MB 43.5 MB/s eta 0:00:01\n",
      "   --------------------------------------  192.3/192.3 MB 43.5 MB/s eta 0:00:01\n",
      "   --------------------------------------  192.3/192.3 MB 43.5 MB/s eta 0:00:01\n",
      "   --------------------------------------  192.3/192.3 MB 43.5 MB/s eta 0:00:01\n",
      "   --------------------------------------- 192.3/192.3 MB 13.1 MB/s eta 0:00:00\n",
      "Installing collected packages: torch\n",
      "Successfully installed torch-2.1.2\n"
     ]
    }
   ],
   "source": [
    "!pip install torch"
   ]
  },
  {
   "cell_type": "code",
   "execution_count": 5,
   "metadata": {},
   "outputs": [
    {
     "name": "stdout",
     "output_type": "stream",
     "text": [
      "StyleGAN 객체 생성\n",
      "멸공의 횃불\n"
     ]
    }
   ],
   "source": [
    "from models.ImageGener import StyleGAN\n",
    "from models.TTS import tacotron\n",
    "\n",
    "model1=StyleGAN()\n",
    "model2=tacotron()"
   ]
  },
  {
   "cell_type": "code",
   "execution_count": null,
   "metadata": {},
   "outputs": [],
   "source": [
    "for epcoh in epochs:\n",
    "    for idx, data in enumerate(dataloader):\n",
    "\n",
    "#학습 완료시 model.pt저장."
   ]
  },
  {
   "cell_type": "code",
   "execution_count": 7,
   "metadata": {},
   "outputs": [],
   "source": [
    "!python train.py"
   ]
  },
  {
   "cell_type": "code",
   "execution_count": 8,
   "metadata": {},
   "outputs": [],
   "source": [
    "!python infer.py"
   ]
  },
  {
   "cell_type": "code",
   "execution_count": null,
   "metadata": {},
   "outputs": [],
   "source": []
  }
 ],
 "metadata": {
  "kernelspec": {
   "display_name": "base",
   "language": "python",
   "name": "python3"
  },
  "language_info": {
   "codemirror_mode": {
    "name": "ipython",
    "version": 3
   },
   "file_extension": ".py",
   "mimetype": "text/x-python",
   "name": "python",
   "nbconvert_exporter": "python",
   "pygments_lexer": "ipython3",
   "version": "3.11.5"
  }
 },
 "nbformat": 4,
 "nbformat_minor": 2
}
